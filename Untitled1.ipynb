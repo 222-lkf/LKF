{
 "cells": [
  {
   "cell_type": "code",
   "execution_count": null,
   "metadata": {},
   "outputs": [],
   "source": [
    "from math import *\n",
    "while(100<=c<1000) :\n",
    "    a=c/100\n",
    "    b=(c/10)%10\n",
    "    d=c%10\n",
    "    h=a*a*a+b*b*b+d*d*d\n",
    "    if (h==c):\n",
    "        print(c)"
   ]
  },
  {
   "cell_type": "code",
   "execution_count": 11,
   "metadata": {},
   "outputs": [],
   "source": [
    "from math import *\n",
    "for c in range (100,1000,1) :\n",
    "    a=c/100\n",
    "    b=(c/10)%10\n",
    "    d=c%10\n",
    "    h=a*a*a+b*b*b+d*d*d\n",
    "    if (h==c):\n",
    "        print(c)"
   ]
  },
  {
   "cell_type": "code",
   "execution_count": null,
   "metadata": {},
   "outputs": [],
   "source": []
  }
 ],
 "metadata": {
  "kernelspec": {
   "display_name": "Python 3",
   "language": "python",
   "name": "python3"
  },
  "language_info": {
   "codemirror_mode": {
    "name": "ipython",
    "version": 3
   },
   "file_extension": ".py",
   "mimetype": "text/x-python",
   "name": "python",
   "nbconvert_exporter": "python",
   "pygments_lexer": "ipython3",
   "version": "3.6.4"
  }
 },
 "nbformat": 4,
 "nbformat_minor": 2
}
